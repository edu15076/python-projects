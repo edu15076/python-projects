{
 "cells": [
  {
   "cell_type": "markdown",
   "metadata": {},
   "source": [
    "# Cotangente\n",
    "[Video Cotangente](https://youtu.be/6HwbtBTEUOI)"
   ]
  },
  {
   "cell_type": "markdown",
   "metadata": {},
   "source": [
    "# Secante e Cossecante na circunferência trigonométrica\n",
    "[Video Secante e Cossecante](https://youtu.be/NBbr_zBwfhU)"
   ]
  },
  {
   "cell_type": "markdown",
   "metadata": {},
   "source": [
    "## Secante\n",
    "$$ \\cos{α} \\times n = \\sec{α} $$\n",
    "$$ \\cos{α} \\times n = \\frac{1}{\\cos{α}} $$\n",
    "$$ (I) n = {1 \\over \\cos^2{α}} $$\n",
    "$$ n = \\frac{\\sin^2{α}+\\cos^2{α}}{\\cos^2{α}} $$\n",
    "$$ n = 1 + \\frac{\\sin^2{α}}{\\cos^2{α}} $$\n",
    "$$ (II) n = 1 + \\tan^2{α} $$\n",
    "### Substituindo (I) em (II)\n",
    "$$ 1 + \\tan^2{α} = \\frac{1}{\\cos^2{α}} $$\n",
    "$$ 1 + \\tan^2{α} = \\sec^2{α} $$\n",
    "\n",
    "![Gráfico da secante sendo mostrada como (0, 0) até a tangente](sec_tg.svg)\n",
    "\n",
    "## Cossecante\n",
    "$$ \\sin{α} \\times n = \\csc{α} $$\n",
    "$$ \\sin{α} \\times n = \\frac{1}{\\sin{α}} $$\n",
    "$$ (I) n = {1 \\over \\sin^2{α}} $$\n",
    "$$ n = \\frac{\\sin^2{α}+\\cos^2{α}}{\\sin^2{α}} $$\n",
    "$$ n = 1 + \\frac{\\cos^2{α}}{\\sin^2{α}} $$\n",
    "$$ (II) n = 1 + \\cot^2{α} $$\n",
    "### Substituindo (I) em (II)\n",
    "$$ 1 + \\cot^2{α} = \\frac{1}{\\sin^2{α}} $$\n",
    "$$ 1 + \\cot^2{α} = \\csc^2{α} $$\n",
    "\n",
    "![Gráfico da cossecante sendo mostrada como (0, 0) até a cotangente](csc_cot.svg)\n",
    "\n",
    "## Secante e Cossecante na circunferência trigonométrica\n",
    "![Gráfico da cossecante e secante tangendo a circunferencia trigonométrica](sec_csc.svg)\n"
   ]
  },
  {
   "cell_type": "markdown",
   "metadata": {},
   "source": [
    "# Resolução de exercícios\n",
    "### 1.\n",
    "(UCDB-MT) Simplificando-se a expressão $ y = \\frac{\\sin{x}}{1 + \\cos{x}} + \\frac{1 + \\cos{x}}{\\sin{x}} $, obtêm-se:\n",
    "\n",
    "a) $ y = 2 \\sin{x} $\n",
    "\n",
    "b) $ y = 2 \\cos{x} $\n",
    "\n",
    "c) $ y = 2 \\tan{x} $\n",
    "\n",
    "d) $ y = 2 \\csc{x} $\n",
    "\n",
    "e) $ y = 2 \\cot{x} $\n",
    "\n",
    "#### Resolução 1:\n",
    "$$ y = \\frac{\\sin{x}}{1 + \\cos{x}} + \\frac{1 + \\cos{x}}{\\sin{x}} $$\n",
    "##### Tirando o mmc:\n",
    "$$ y = \\frac{\\sin^2{x} + (1 + \\cos{x})^2}{\\sin{x}(1 + \\cos{x})} $$\n",
    "$$ y = \\frac{\\sin^2{x} + 1 + 2\\cos{x} + \\cos^2{x}}{\\sin{x}(1 + \\cos{x})} $$\n",
    "##### Substituindo pelo teorema fundamental:\n",
    "$$ y = \\frac{2 + 2\\cos{x}}{\\sin{x}(1 + \\cos{x})} $$\n",
    "$$ y = \\frac{2(1 + \\cos{x})}{\\sin{x}(1 + \\cos{x})} $$\n",
    "##### Simplificando:\n",
    "$$ y = \\frac{2}{\\sin{x}} $$\n",
    "##### Substituindo $ \\frac{1}{\\sin{x}} $ por $ \\csc{x} $:\n",
    "$$ y = 2\\csc{x} $$\n",
    "\n",
    "##### Alternativa *d*\n",
    "\n",
    "### 2.\n",
    "Sabendo que $ \\alpha $ é um ângulo menor do que $90^o$, qual é o valor do ângulo $ \\alpha $ em radianos observando o gráfico abaixo e sabendo que a reta que passa pelos três pontos cinzas e pelo ponto azul tange a circunferência de raio 1?\n",
    "\n",
    "![Gráfico da cossecante e secante tangendo a circunferencia trigonométrica](sec_csc.svg)\n",
    "\n",
    "#### Resolução 2:\n",
    "Nesse gráfico observa-se que o ponto cinza no eixo $x$ representa o valor da secante do ângulo $\\alpha$, como também foi esclarecido no vídeo sobre secantes, dessa forma sabemos que:\n",
    "$$\\sec{\\alpha} = 2 \\Rightarrow \\sin{\\alpha} = \\sec^{-1}{\\alpha} \\Rightarrow \\sin{\\alpha} = \\frac{1}{2} $$\n",
    "E sabemos que $\\sin{\\frac{\\pi}{3}} = \\frac{1}{2}$. Logo $\\alpha = \\frac{\\pi}{3}rad$.\n",
    "\n",
    "### 3.\n",
    "No gráfico abaixo temos uma reta $a$ que tange a circunferência trigonométrica no ponto (0, 1). Sabendo que o módulo da distância dos pontos (0, 0) até o ponto no qual o segmento de reta angulado em $\\alpha$ intercepta a reta $a$ vale $\\frac{2\\sqrt{3}}{3}$, qual é o valor de $\\cot{\\alpha}$?\n",
    "\n",
    "![Gráfico da cossecante sendo mostrada como (0, 0) até a cotangente](csc_cot.svg)\n",
    "\n",
    "#### Resolução 3:\n",
    "A reta $a$, por definição, é a reta das cotangentes, potanto o valor da $\\cot{\\alpha}$ é o valor do ponto no qual o segmento de reta angulado em $\\alpha$ intercepta a reta $a$ em $x$. Logo basta resolver o teorema de pitagoras para encontrarmos o resultado:\n",
    "$$ (\\frac{2\\sqrt{3}}{3})^2 = 1^2 + \\cot^2{\\alpha} $$\n",
    "$$ \\frac{4}{3} - 1 = \\cot^2{\\alpha} $$\n",
    "$$ \\frac{1}{3} = \\cot^2{\\alpha} $$\n",
    "$$ \\cot{\\alpha} = \\sqrt{\\frac{1}{3}} $$\n",
    "$$ \\cot{\\alpha} = \\frac{1}{\\sqrt{3}} $$\n",
    "$$ \\cot{\\alpha} = \\frac{\\sqrt{3}}{3} $$"
   ]
  }
 ],
 "metadata": {
  "kernelspec": {
   "display_name": "Python 3.11.0 64-bit",
   "language": "python",
   "name": "python3"
  },
  "language_info": {
   "codemirror_mode": {
    "name": "ipython",
    "version": 3
   },
   "file_extension": ".py",
   "mimetype": "text/x-python",
   "name": "python",
   "nbconvert_exporter": "python",
   "pygments_lexer": "ipython3",
   "version": "3.11.0"
  },
  "orig_nbformat": 4,
  "vscode": {
   "interpreter": {
    "hash": "c261aea317cc0286b3b3261fbba9abdec21eaa57589985bb7a274bf54d6cc0a7"
   }
  }
 },
 "nbformat": 4,
 "nbformat_minor": 2
}
